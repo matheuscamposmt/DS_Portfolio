{
  "cells": [
    {
      "cell_type": "markdown",
      "metadata": {
        "id": "FFGT25iv17lx"
      },
      "source": [
        "# The Law of Large Numbers\n",
        "\n",
        "#### To understand the the Law of Large Numbers, it's necessary to be aware of its basics."
      ]
    },
    {
      "cell_type": "markdown",
      "metadata": {
        "id": "ZFHWcfx02FS7"
      },
      "source": [
        "## Random Variables\n",
        "\n",
        "---\n",
        "\n",
        "\n",
        "\n",
        "A random variable is a variable whose possibles values have an associated probability distribution.\n",
        "\n",
        "A very simple random variable equals 1 if a coin flip turns up heads and 0 if the flip turns up tails.\n",
        "\n",
        "Or the measure of the number of heads when flipping a coin 10 times"
      ]
    },
    {
      "cell_type": "code",
      "execution_count": 2,
      "metadata": {
        "colab": {
          "base_uri": "https://localhost:8080/"
        },
        "id": "5J9lnwGBGJyl",
        "outputId": "5cd2bab3-00de-4110-b1c1-c55b8e5e9b68"
      },
      "outputs": [
        {
          "data": {
            "text/plain": [
              "1"
            ]
          },
          "execution_count": 2,
          "metadata": {},
          "output_type": "execute_result"
        }
      ],
      "source": [
        "import numpy as np\n",
        "\n",
        "# random variable\n",
        "def flip_coin():\n",
        "  return np.random.choice([0, 1])\n",
        "\n",
        "flip_coin()"
      ]
    },
    {
      "cell_type": "code",
      "execution_count": 3,
      "metadata": {
        "id": "WW-A9YSiG-pp"
      },
      "outputs": [],
      "source": [
        "# If flip_coin() returns 1 we'll consider head\n",
        "\n",
        "# another random variable\n",
        "def flip_ten():\n",
        "  n_heads = 0\n",
        "  for _ in range(10):\n",
        "    n_heads += flip_coin()\n",
        "\n",
        "  return n_heads"
      ]
    },
    {
      "cell_type": "code",
      "execution_count": 4,
      "metadata": {
        "colab": {
          "base_uri": "https://localhost:8080/"
        },
        "id": "a9_S_nXSHilF",
        "outputId": "c728b168-1370-4e5f-f4f5-6fb1fc0edd7c"
      },
      "outputs": [
        {
          "data": {
            "text/plain": [
              "4"
            ]
          },
          "execution_count": 4,
          "metadata": {},
          "output_type": "execute_result"
        }
      ],
      "source": [
        "flip_ten()"
      ]
    },
    {
      "cell_type": "markdown",
      "metadata": {
        "id": "cCMTJWgCISVK"
      },
      "source": [
        "## Discrete Distribution\n",
        "\n",
        "---\n",
        "\n",
        "\n",
        "\n",
        "Discrete distribution counts occurrences that have countable or finite outcomes"
      ]
    },
    {
      "cell_type": "code",
      "execution_count": 5,
      "metadata": {
        "colab": {
          "base_uri": "https://localhost:8080/"
        },
        "id": "e03ivc9DIm4B",
        "outputId": "45ae622c-3cbb-4545-abc8-a6efda36239b"
      },
      "outputs": [
        {
          "name": "stdout",
          "output_type": "stream",
          "text": [
            "[5, 6, 4, 4, 6, 5, 4, 5, 5, 4, 7, 7, 5, 5, 5, 3, 6, 5, 4, 4]\n"
          ]
        }
      ],
      "source": [
        "distribution = [flip_ten() for _ in range(20)]\n",
        "print(distribution)"
      ]
    },
    {
      "cell_type": "code",
      "execution_count": 11,
      "metadata": {
        "colab": {
          "base_uri": "https://localhost:8080/",
          "height": 282
        },
        "id": "-ilofIZVJk1h",
        "outputId": "0d281cdb-5e81-484e-b0a3-0fc74c9dac95"
      },
      "outputs": [
        {
          "data": {
            "image/png": "[encoded data removed]",
            "text/plain": [
              "<Figure size 800x400 with 1 Axes>"
            ]
          },
          "metadata": {},
          "output_type": "display_data"
        }
      ],
      "source": [
        "import matplotlib.pyplot as plt\n",
        "from collections import Counter\n",
        "\n",
        "histogram = Counter(distribution)\n",
        " \n",
        "plt.figure(figsize=(8,4))\n",
        "plt.bar(histogram.keys(), histogram.values())\n",
        "plt.title(\"Histogram\")\n",
        "plt.show()"
      ]
    },
    {
      "cell_type": "markdown",
      "metadata": {
        "id": "qTODcSxKBl7j"
      },
      "source": [
        "#### A discrete distribution representing the number of times a fair coin, when flipped, shows head"
      ]
    },
    {
      "cell_type": "markdown",
      "metadata": {
        "id": "P5JWZ6dyA7vg"
      },
      "source": [
        "## The Law\n",
        "\n",
        "---\n",
        "\n"
      ]
    },
    {
      "cell_type": "markdown",
      "metadata": {
        "id": "WzEaAdAtB4l6"
      },
      "source": [
        "According to the Law of Large Numbers, the average of the results obtained from a large number of trials should be close to the expected value and tends to become closer to the expected value as more trials are performed. \n",
        "\n",
        "Let's try it with the `flip_ten()` function:"
      ]
    },
    {
      "cell_type": "markdown",
      "metadata": {
        "id": "sZ5kEDpuCZwv"
      },
      "source": [
        "The expected number of times a unbiased coin shows head is:"
      ]
    },
    {
      "cell_type": "code",
      "execution_count": 7,
      "metadata": {
        "colab": {
          "base_uri": "https://localhost:8080/"
        },
        "id": "GtBecW6kJoi3",
        "outputId": "d1813a5a-b7a7-4cc4-dc77-604e97a5d008"
      },
      "outputs": [
        {
          "name": "stdout",
          "output_type": "stream",
          "text": [
            "Expected value: 5.0\n"
          ]
        }
      ],
      "source": [
        "sample_space = [0, 1, 2, 3, 4, 5, 6, 7, 8, 9, 10]\n",
        "n = len(sample_space)\n",
        "\n",
        "expected = sum(sample_space) / n\n",
        "print(f\"Expected value: {expected}\")"
      ]
    },
    {
      "cell_type": "markdown",
      "metadata": {
        "id": "5J6RguXYEuPB"
      },
      "source": [
        "So, according to the law:"
      ]
    },
    {
      "cell_type": "code",
      "execution_count": 8,
      "metadata": {
        "id": "WxItSbB1_0qS"
      },
      "outputs": [],
      "source": [
        "m = 10_000\n",
        "experiments = []\n",
        "for _ in range(m):\n",
        "  result = flip_ten()\n",
        "  experiments.append(result)"
      ]
    },
    {
      "cell_type": "code",
      "execution_count": 9,
      "metadata": {
        "colab": {
          "base_uri": "https://localhost:8080/"
        },
        "id": "OgGsLB9sFJB5",
        "outputId": "7d7f4836-2d56-44ee-8d19-959bdc34a460"
      },
      "outputs": [
        {
          "name": "stdout",
          "output_type": "stream",
          "text": [
            "The average of the experiments: 5.0087\n"
          ]
        }
      ],
      "source": [
        "print(f\"The average of the experiments: {sum(experiments) / m}\")"
      ]
    },
    {
      "cell_type": "markdown",
      "metadata": {
        "id": "vjHcEAcsF7I8"
      },
      "source": [
        "# Conclusion\n",
        "\n",
        "The computational proof of the law is very simple, taking few lines of code.\n",
        "\n",
        "\n",
        "Check the next notebook: https://github.com/matheuscamposmt/DS_Portfolio/blob/main/Probability/Central_Limit_Theorem.ipynb"
      ]
    }
  ],
  "metadata": {
    "colab": {
      "collapsed_sections": [
        "qTODcSxKBl7j"
      ],
      "provenance": []
    },
    "kernelspec": {
      "display_name": "Python 3.8.13 ('base')",
      "language": "python",
      "name": "python3"
    },
    "language_info": {
      "codemirror_mode": {
        "name": "ipython",
        "version": 3
      },
      "file_extension": ".py",
      "mimetype": "text/x-python",
      "name": "python",
      "nbconvert_exporter": "python",
      "pygments_lexer": "ipython3",
      "version": "3.8.13"
    },
    "vscode": {
      "interpreter": {
        "hash": "f70c7cf19e63b44dbf11c2b4e8fc69fc3cbf73130b035f79ab9654f5c8ee56fc"
      }
    }
  },
  "nbformat": 4,
  "nbformat_minor": 0
}
